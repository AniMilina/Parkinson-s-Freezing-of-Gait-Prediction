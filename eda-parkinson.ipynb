{
 "cells": [
  {
   "cell_type": "markdown",
   "id": "0bc4597f",
   "metadata": {
    "papermill": {
     "duration": 0.01265,
     "end_time": "2023-05-17T18:33:21.106254",
     "exception": false,
     "start_time": "2023-05-17T18:33:21.093604",
     "status": "completed"
    },
    "tags": []
   },
   "source": [
    "![ML](https://raw.githubusercontent.com/AniMilina/Parkinson-s-Freezing-of-Gait-Prediction/main/EDA.jpg)\n"
   ]
  },
  {
   "cell_type": "markdown",
   "id": "06f6527b",
   "metadata": {
    "papermill": {
     "duration": 0.011237,
     "end_time": "2023-05-17T18:33:21.129149",
     "exception": false,
     "start_time": "2023-05-17T18:33:21.117912",
     "status": "completed"
    },
    "tags": []
   },
   "source": [
    "Our task is to detect freezing of gait (FOG) episodes during walking in the tdcsfog and defog datasets. To accomplish this, we need to use the data of temporal steps, accelerations along three axes, and event types (recorded in the Type column) from these two datasets.\n",
    "\n",
    "The defog dataset has two additional columns: Valid and Task. We should only use event annotations where the series is marked as true, and sections marked as false should be treated as unannotated.\n",
    "\n",
    "The tdcsfog_metadata, defog_metadata, and events metadata contain information about laboratory visits, tests performed, and medications taken for each subject in the study. We can use this information to analyze the results of our model depending on various factors."
   ]
  },
  {
   "cell_type": "code",
   "execution_count": 1,
   "id": "6beb5a34",
   "metadata": {
    "execution": {
     "iopub.execute_input": "2023-05-17T18:33:21.154440Z",
     "iopub.status.busy": "2023-05-17T18:33:21.153403Z",
     "iopub.status.idle": "2023-05-17T18:33:22.349601Z",
     "shell.execute_reply": "2023-05-17T18:33:22.348347Z"
    },
    "papermill": {
     "duration": 1.211595,
     "end_time": "2023-05-17T18:33:22.352281",
     "exception": false,
     "start_time": "2023-05-17T18:33:21.140686",
     "status": "completed"
    },
    "tags": []
   },
   "outputs": [
    {
     "name": "stderr",
     "output_type": "stream",
     "text": [
      "/opt/conda/lib/python3.10/site-packages/scipy/__init__.py:146: UserWarning: A NumPy version >=1.16.5 and <1.23.0 is required for this version of SciPy (detected version 1.23.5\n",
      "  warnings.warn(f\"A NumPy version >={np_minversion} and <{np_maxversion}\"\n"
     ]
    }
   ],
   "source": [
    "import pandas as pd\n",
    "import numpy as np\n",
    "import os\n",
    "from IPython.display import display\n",
    "import matplotlib.pyplot as plt\n",
    "import numpy as np\n",
    "import seaborn as sns\n",
    "from sklearn.metrics import mutual_info_score\n",
    "# for dirname, _, filenames in os.walk('/kaggle/input'):\n",
    "#     for filename in filenames:\n",
    "#         print(os.path.join(dirname, filename))"
   ]
  },
  {
   "cell_type": "code",
   "execution_count": 2,
   "id": "7f6c06c4",
   "metadata": {
    "execution": {
     "iopub.execute_input": "2023-05-17T18:33:22.378145Z",
     "iopub.status.busy": "2023-05-17T18:33:22.377245Z",
     "iopub.status.idle": "2023-05-17T18:33:22.382128Z",
     "shell.execute_reply": "2023-05-17T18:33:22.381269Z"
    },
    "papermill": {
     "duration": 0.019805,
     "end_time": "2023-05-17T18:33:22.384208",
     "exception": false,
     "start_time": "2023-05-17T18:33:22.364403",
     "status": "completed"
    },
    "tags": []
   },
   "outputs": [],
   "source": [
    "# Set formatting option\n",
    "\n",
    "pd.options.display.float_format = '{:.3f}'.format"
   ]
  },
  {
   "cell_type": "code",
   "execution_count": 3,
   "id": "ffd61209",
   "metadata": {
    "execution": {
     "iopub.execute_input": "2023-05-17T18:33:22.410095Z",
     "iopub.status.busy": "2023-05-17T18:33:22.409752Z",
     "iopub.status.idle": "2023-05-17T18:33:22.415878Z",
     "shell.execute_reply": "2023-05-17T18:33:22.414925Z"
    },
    "papermill": {
     "duration": 0.021946,
     "end_time": "2023-05-17T18:33:22.417848",
     "exception": false,
     "start_time": "2023-05-17T18:33:22.395902",
     "status": "completed"
    },
    "tags": []
   },
   "outputs": [],
   "source": [
    "def fill_missing_values(df):\n",
    "    \"\"\"\n",
    "    Replaces missing values with the median value for each numerical column.\n",
    "\n",
    "    :param df: pandas DataFrame, the dataset in which missing values need to be replaced\n",
    "    :return: pandas DataFrame, the dataset with replaced missing values\n",
    "    \"\"\"\n",
    "    numeric_cols = df.select_dtypes(include=['float64', 'int64']).columns  # Selecting all numerical columns\n",
    "    for col in numeric_cols:\n",
    "        median = df[col].median()  # Finding the Median Value of a Column\n",
    "        df[col].fillna(median, inplace=True)   # Replacing Missing Values with the Median Value\n",
    "    return df"
   ]
  },
  {
   "cell_type": "code",
   "execution_count": 4,
   "id": "98431694",
   "metadata": {
    "execution": {
     "iopub.execute_input": "2023-05-17T18:33:22.442963Z",
     "iopub.status.busy": "2023-05-17T18:33:22.442098Z",
     "iopub.status.idle": "2023-05-17T18:33:22.448259Z",
     "shell.execute_reply": "2023-05-17T18:33:22.447346Z"
    },
    "papermill": {
     "duration": 0.020893,
     "end_time": "2023-05-17T18:33:22.450240",
     "exception": false,
     "start_time": "2023-05-17T18:33:22.429347",
     "status": "completed"
    },
    "tags": []
   },
   "outputs": [],
   "source": [
    "# Function to Get Data Information\n",
    "\n",
    "def explore_dataframe(df):\n",
    "    print(\"Shape of dataframe:\", df.shape)\n",
    "    display(df.head())\n",
    "    print(\"Info of dataframe:\\n\")\n",
    "    df.info()\n",
    "    print(\"Summary statistics of dataframe:\\n\", df.describe())\n",
    "    print(\"Missing values in dataframe:\\n\", df.isnull().sum())\n",
    "    print(\"Duplicate rows in dataframe:\", df.duplicated().sum())"
   ]
  },
  {
   "cell_type": "code",
   "execution_count": 5,
   "id": "09806b11",
   "metadata": {
    "execution": {
     "iopub.execute_input": "2023-05-17T18:33:22.475133Z",
     "iopub.status.busy": "2023-05-17T18:33:22.474778Z",
     "iopub.status.idle": "2023-05-17T18:33:22.480088Z",
     "shell.execute_reply": "2023-05-17T18:33:22.479095Z"
    },
    "papermill": {
     "duration": 0.020508,
     "end_time": "2023-05-17T18:33:22.482300",
     "exception": false,
     "start_time": "2023-05-17T18:33:22.461792",
     "status": "completed"
    },
    "tags": []
   },
   "outputs": [],
   "source": [
    "# Checking for Missing Values in Each Column\n",
    "\n",
    "def check_missing_values(df):\n",
    "    \"\"\"\n",
    "    Checks the count of missing values in each column of a DataFrame.\n",
    "\n",
    "    :param df: pandas.DataFrame, the DataFrame to check for missing values.\n",
    "    :return: pandas.DataFrame, the DataFrame with information about missing values.\n",
    "    \"\"\"\n",
    "    return df.isnull().sum()"
   ]
  },
  {
   "cell_type": "code",
   "execution_count": 6,
   "id": "9a361465",
   "metadata": {
    "execution": {
     "iopub.execute_input": "2023-05-17T18:33:22.507574Z",
     "iopub.status.busy": "2023-05-17T18:33:22.507202Z",
     "iopub.status.idle": "2023-05-17T18:33:22.564324Z",
     "shell.execute_reply": "2023-05-17T18:33:22.563397Z"
    },
    "papermill": {
     "duration": 0.072619,
     "end_time": "2023-05-17T18:33:22.566825",
     "exception": false,
     "start_time": "2023-05-17T18:33:22.494206",
     "status": "completed"
    },
    "tags": []
   },
   "outputs": [],
   "source": [
    "# Reading Data from tdcsfog_metadata.csv\n",
    "\n",
    "tdcsfog = pd.read_csv('/kaggle/input/tlvmc-parkinsons-freezing-gait-prediction/tdcsfog_metadata.csv')\n",
    "\n",
    "# Reading Data from defog_metadata.csv\n",
    "\n",
    "defog = pd.read_csv('/kaggle/input/tlvmc-parkinsons-freezing-gait-prediction/defog_metadata.csv')\n",
    "\n",
    "# Reading Data from events.csv\n",
    "\n",
    "events = pd.read_csv('/kaggle/input/tlvmc-parkinsons-freezing-gait-prediction/events.csv')\n",
    "\n",
    "# Reading Data from train & tdcsfog & daily_metadata.csv\n",
    "\n",
    "acc = pd.read_csv('/kaggle/input/tlvmc-parkinsons-freezing-gait-prediction/train/tdcsfog/08fbe142f9.csv')\n",
    "\n",
    "# Reading Data from subjects.csv\n",
    "\n",
    "subject = pd.read_csv('/kaggle/input/tlvmc-parkinsons-freezing-gait-prediction/subjects.csv')"
   ]
  },
  {
   "cell_type": "code",
   "execution_count": 7,
   "id": "e4bf58dd",
   "metadata": {
    "execution": {
     "iopub.execute_input": "2023-05-17T18:33:22.592271Z",
     "iopub.status.busy": "2023-05-17T18:33:22.591285Z",
     "iopub.status.idle": "2023-05-17T18:33:22.637073Z",
     "shell.execute_reply": "2023-05-17T18:33:22.635124Z"
    },
    "papermill": {
     "duration": 0.061264,
     "end_time": "2023-05-17T18:33:22.639924",
     "exception": false,
     "start_time": "2023-05-17T18:33:22.578660",
     "status": "completed"
    },
    "tags": []
   },
   "outputs": [
    {
     "name": "stdout",
     "output_type": "stream",
     "text": [
      "Shape of dataframe: (833, 5)\n"
     ]
    },
    {
     "data": {
      "text/html": [
       "<div>\n",
       "<style scoped>\n",
       "    .dataframe tbody tr th:only-of-type {\n",
       "        vertical-align: middle;\n",
       "    }\n",
       "\n",
       "    .dataframe tbody tr th {\n",
       "        vertical-align: top;\n",
       "    }\n",
       "\n",
       "    .dataframe thead th {\n",
       "        text-align: right;\n",
       "    }\n",
       "</style>\n",
       "<table border=\"1\" class=\"dataframe\">\n",
       "  <thead>\n",
       "    <tr style=\"text-align: right;\">\n",
       "      <th></th>\n",
       "      <th>Id</th>\n",
       "      <th>Subject</th>\n",
       "      <th>Visit</th>\n",
       "      <th>Test</th>\n",
       "      <th>Medication</th>\n",
       "    </tr>\n",
       "  </thead>\n",
       "  <tbody>\n",
       "    <tr>\n",
       "      <th>0</th>\n",
       "      <td>003f117e14</td>\n",
       "      <td>4dc2f8</td>\n",
       "      <td>3</td>\n",
       "      <td>2</td>\n",
       "      <td>on</td>\n",
       "    </tr>\n",
       "    <tr>\n",
       "      <th>1</th>\n",
       "      <td>009ee11563</td>\n",
       "      <td>f62eec</td>\n",
       "      <td>4</td>\n",
       "      <td>2</td>\n",
       "      <td>on</td>\n",
       "    </tr>\n",
       "    <tr>\n",
       "      <th>2</th>\n",
       "      <td>011322847a</td>\n",
       "      <td>231c3b</td>\n",
       "      <td>2</td>\n",
       "      <td>2</td>\n",
       "      <td>on</td>\n",
       "    </tr>\n",
       "    <tr>\n",
       "      <th>3</th>\n",
       "      <td>01d0fe7266</td>\n",
       "      <td>231c3b</td>\n",
       "      <td>2</td>\n",
       "      <td>1</td>\n",
       "      <td>off</td>\n",
       "    </tr>\n",
       "    <tr>\n",
       "      <th>4</th>\n",
       "      <td>024418ba39</td>\n",
       "      <td>fa8764</td>\n",
       "      <td>19</td>\n",
       "      <td>3</td>\n",
       "      <td>on</td>\n",
       "    </tr>\n",
       "  </tbody>\n",
       "</table>\n",
       "</div>"
      ],
      "text/plain": [
       "           Id Subject  Visit  Test Medication\n",
       "0  003f117e14  4dc2f8      3     2         on\n",
       "1  009ee11563  f62eec      4     2         on\n",
       "2  011322847a  231c3b      2     2         on\n",
       "3  01d0fe7266  231c3b      2     1        off\n",
       "4  024418ba39  fa8764     19     3         on"
      ]
     },
     "metadata": {},
     "output_type": "display_data"
    },
    {
     "name": "stdout",
     "output_type": "stream",
     "text": [
      "Info of dataframe:\n",
      "\n",
      "<class 'pandas.core.frame.DataFrame'>\n",
      "RangeIndex: 833 entries, 0 to 832\n",
      "Data columns (total 5 columns):\n",
      " #   Column      Non-Null Count  Dtype \n",
      "---  ------      --------------  ----- \n",
      " 0   Id          833 non-null    object\n",
      " 1   Subject     833 non-null    object\n",
      " 2   Visit       833 non-null    int64 \n",
      " 3   Test        833 non-null    int64 \n",
      " 4   Medication  833 non-null    object\n",
      "dtypes: int64(2), object(3)\n",
      "memory usage: 32.7+ KB\n",
      "Summary statistics of dataframe:\n",
      "         Visit    Test\n",
      "count 833.000 833.000\n",
      "mean    6.461   1.975\n",
      "std     6.172   0.813\n",
      "min     2.000   1.000\n",
      "25%     2.000   1.000\n",
      "50%     4.000   2.000\n",
      "75%     5.000   3.000\n",
      "max    20.000   3.000\n",
      "Missing values in dataframe:\n",
      " Id            0\n",
      "Subject       0\n",
      "Visit         0\n",
      "Test          0\n",
      "Medication    0\n",
      "dtype: int64\n",
      "Duplicate rows in dataframe: 0\n"
     ]
    }
   ],
   "source": [
    "explore_dataframe(tdcsfog)"
   ]
  },
  {
   "cell_type": "markdown",
   "id": "6657dc80",
   "metadata": {
    "papermill": {
     "duration": 0.011861,
     "end_time": "2023-05-17T18:33:22.665160",
     "exception": false,
     "start_time": "2023-05-17T18:33:22.653299",
     "status": "completed"
    },
    "tags": []
   },
   "source": [
    "The dataset appears to be complete and clean, with no missing values or duplicates.\n",
    "\n",
    "The dataset consists of 833 records and 5 columns, which describe the patient identifier, visit number, test number, medication treatment, and test results. The \"Test\" column has only three possible values, indicating that each test measured only one parameter. These attributes provide valuable information for analysis and model building."
   ]
  },
  {
   "cell_type": "code",
   "execution_count": 8,
   "id": "d9e2ffe1",
   "metadata": {
    "execution": {
     "iopub.execute_input": "2023-05-17T18:33:22.691027Z",
     "iopub.status.busy": "2023-05-17T18:33:22.690081Z",
     "iopub.status.idle": "2023-05-17T18:33:22.716190Z",
     "shell.execute_reply": "2023-05-17T18:33:22.714079Z"
    },
    "papermill": {
     "duration": 0.041773,
     "end_time": "2023-05-17T18:33:22.718782",
     "exception": false,
     "start_time": "2023-05-17T18:33:22.677009",
     "status": "completed"
    },
    "tags": []
   },
   "outputs": [
    {
     "name": "stdout",
     "output_type": "stream",
     "text": [
      "Shape of dataframe: (137, 4)\n"
     ]
    },
    {
     "data": {
      "text/html": [
       "<div>\n",
       "<style scoped>\n",
       "    .dataframe tbody tr th:only-of-type {\n",
       "        vertical-align: middle;\n",
       "    }\n",
       "\n",
       "    .dataframe tbody tr th {\n",
       "        vertical-align: top;\n",
       "    }\n",
       "\n",
       "    .dataframe thead th {\n",
       "        text-align: right;\n",
       "    }\n",
       "</style>\n",
       "<table border=\"1\" class=\"dataframe\">\n",
       "  <thead>\n",
       "    <tr style=\"text-align: right;\">\n",
       "      <th></th>\n",
       "      <th>Id</th>\n",
       "      <th>Subject</th>\n",
       "      <th>Visit</th>\n",
       "      <th>Medication</th>\n",
       "    </tr>\n",
       "  </thead>\n",
       "  <tbody>\n",
       "    <tr>\n",
       "      <th>0</th>\n",
       "      <td>02ab235146</td>\n",
       "      <td>e1f62e</td>\n",
       "      <td>2</td>\n",
       "      <td>on</td>\n",
       "    </tr>\n",
       "    <tr>\n",
       "      <th>1</th>\n",
       "      <td>02ea782681</td>\n",
       "      <td>ae2d35</td>\n",
       "      <td>2</td>\n",
       "      <td>on</td>\n",
       "    </tr>\n",
       "    <tr>\n",
       "      <th>2</th>\n",
       "      <td>06414383cf</td>\n",
       "      <td>8c1f5e</td>\n",
       "      <td>2</td>\n",
       "      <td>off</td>\n",
       "    </tr>\n",
       "    <tr>\n",
       "      <th>3</th>\n",
       "      <td>092b4c1819</td>\n",
       "      <td>2874c5</td>\n",
       "      <td>1</td>\n",
       "      <td>off</td>\n",
       "    </tr>\n",
       "    <tr>\n",
       "      <th>4</th>\n",
       "      <td>0a900ed8a2</td>\n",
       "      <td>0e3d49</td>\n",
       "      <td>2</td>\n",
       "      <td>on</td>\n",
       "    </tr>\n",
       "  </tbody>\n",
       "</table>\n",
       "</div>"
      ],
      "text/plain": [
       "           Id Subject  Visit Medication\n",
       "0  02ab235146  e1f62e      2         on\n",
       "1  02ea782681  ae2d35      2         on\n",
       "2  06414383cf  8c1f5e      2        off\n",
       "3  092b4c1819  2874c5      1        off\n",
       "4  0a900ed8a2  0e3d49      2         on"
      ]
     },
     "metadata": {},
     "output_type": "display_data"
    },
    {
     "name": "stdout",
     "output_type": "stream",
     "text": [
      "Info of dataframe:\n",
      "\n",
      "<class 'pandas.core.frame.DataFrame'>\n",
      "RangeIndex: 137 entries, 0 to 136\n",
      "Data columns (total 4 columns):\n",
      " #   Column      Non-Null Count  Dtype \n",
      "---  ------      --------------  ----- \n",
      " 0   Id          137 non-null    object\n",
      " 1   Subject     137 non-null    object\n",
      " 2   Visit       137 non-null    int64 \n",
      " 3   Medication  137 non-null    object\n",
      "dtypes: int64(1), object(3)\n",
      "memory usage: 4.4+ KB\n",
      "Summary statistics of dataframe:\n",
      "         Visit\n",
      "count 137.000\n",
      "mean    1.489\n",
      "std     0.502\n",
      "min     1.000\n",
      "25%     1.000\n",
      "50%     1.000\n",
      "75%     2.000\n",
      "max     2.000\n",
      "Missing values in dataframe:\n",
      " Id            0\n",
      "Subject       0\n",
      "Visit         0\n",
      "Medication    0\n",
      "dtype: int64\n",
      "Duplicate rows in dataframe: 0\n"
     ]
    }
   ],
   "source": [
    "explore_dataframe(defog)"
   ]
  },
  {
   "cell_type": "markdown",
   "id": "f9a3c620",
   "metadata": {
    "papermill": {
     "duration": 0.012059,
     "end_time": "2023-05-17T18:33:22.743519",
     "exception": false,
     "start_time": "2023-05-17T18:33:22.731460",
     "status": "completed"
    },
    "tags": []
   },
   "source": [
    "This dataset contains information about 137 patients who underwent treatment with various medications to improve brain function.\n",
    "\n",
    "Each row provides information about the patient's identifier, their FOG identifier, and whether or not they took medication.\n",
    "\n",
    "The dataset does not contain any missing values or duplicates.\n",
    "\n",
    "Among the patients, there are only two values for the visit number: 1 and 2. The majority of patients (75%) underwent treatment during the first visit."
   ]
  },
  {
   "cell_type": "code",
   "execution_count": 9,
   "id": "0d64178e",
   "metadata": {
    "execution": {
     "iopub.execute_input": "2023-05-17T18:33:22.770096Z",
     "iopub.status.busy": "2023-05-17T18:33:22.769134Z",
     "iopub.status.idle": "2023-05-17T18:33:22.806085Z",
     "shell.execute_reply": "2023-05-17T18:33:22.804168Z"
    },
    "papermill": {
     "duration": 0.052792,
     "end_time": "2023-05-17T18:33:22.808495",
     "exception": false,
     "start_time": "2023-05-17T18:33:22.755703",
     "status": "completed"
    },
    "tags": []
   },
   "outputs": [
    {
     "name": "stdout",
     "output_type": "stream",
     "text": [
      "Shape of dataframe: (3544, 5)\n"
     ]
    },
    {
     "data": {
      "text/html": [
       "<div>\n",
       "<style scoped>\n",
       "    .dataframe tbody tr th:only-of-type {\n",
       "        vertical-align: middle;\n",
       "    }\n",
       "\n",
       "    .dataframe tbody tr th {\n",
       "        vertical-align: top;\n",
       "    }\n",
       "\n",
       "    .dataframe thead th {\n",
       "        text-align: right;\n",
       "    }\n",
       "</style>\n",
       "<table border=\"1\" class=\"dataframe\">\n",
       "  <thead>\n",
       "    <tr style=\"text-align: right;\">\n",
       "      <th></th>\n",
       "      <th>Id</th>\n",
       "      <th>Init</th>\n",
       "      <th>Completion</th>\n",
       "      <th>Type</th>\n",
       "      <th>Kinetic</th>\n",
       "    </tr>\n",
       "  </thead>\n",
       "  <tbody>\n",
       "    <tr>\n",
       "      <th>0</th>\n",
       "      <td>003f117e14</td>\n",
       "      <td>8.613</td>\n",
       "      <td>14.773</td>\n",
       "      <td>Turn</td>\n",
       "      <td>1.000</td>\n",
       "    </tr>\n",
       "    <tr>\n",
       "      <th>1</th>\n",
       "      <td>009ee11563</td>\n",
       "      <td>11.385</td>\n",
       "      <td>41.185</td>\n",
       "      <td>Turn</td>\n",
       "      <td>1.000</td>\n",
       "    </tr>\n",
       "    <tr>\n",
       "      <th>2</th>\n",
       "      <td>009ee11563</td>\n",
       "      <td>54.665</td>\n",
       "      <td>58.785</td>\n",
       "      <td>Turn</td>\n",
       "      <td>1.000</td>\n",
       "    </tr>\n",
       "    <tr>\n",
       "      <th>3</th>\n",
       "      <td>011322847a</td>\n",
       "      <td>28.097</td>\n",
       "      <td>30.297</td>\n",
       "      <td>Turn</td>\n",
       "      <td>1.000</td>\n",
       "    </tr>\n",
       "    <tr>\n",
       "      <th>4</th>\n",
       "      <td>01d0fe7266</td>\n",
       "      <td>30.318</td>\n",
       "      <td>31.878</td>\n",
       "      <td>Turn</td>\n",
       "      <td>1.000</td>\n",
       "    </tr>\n",
       "  </tbody>\n",
       "</table>\n",
       "</div>"
      ],
      "text/plain": [
       "           Id   Init  Completion  Type  Kinetic\n",
       "0  003f117e14  8.613      14.773  Turn    1.000\n",
       "1  009ee11563 11.385      41.185  Turn    1.000\n",
       "2  009ee11563 54.665      58.785  Turn    1.000\n",
       "3  011322847a 28.097      30.297  Turn    1.000\n",
       "4  01d0fe7266 30.318      31.878  Turn    1.000"
      ]
     },
     "metadata": {},
     "output_type": "display_data"
    },
    {
     "name": "stdout",
     "output_type": "stream",
     "text": [
      "Info of dataframe:\n",
      "\n",
      "<class 'pandas.core.frame.DataFrame'>\n",
      "RangeIndex: 3544 entries, 0 to 3543\n",
      "Data columns (total 5 columns):\n",
      " #   Column      Non-Null Count  Dtype  \n",
      "---  ------      --------------  -----  \n",
      " 0   Id          3544 non-null   object \n",
      " 1   Init        3544 non-null   float64\n",
      " 2   Completion  3544 non-null   float64\n",
      " 3   Type        2502 non-null   object \n",
      " 4   Kinetic     2502 non-null   float64\n",
      "dtypes: float64(3), object(2)\n",
      "memory usage: 138.6+ KB\n",
      "Summary statistics of dataframe:\n",
      "           Init  Completion  Kinetic\n",
      "count 3544.000    3544.000 2502.000\n",
      "mean   956.298     964.489    0.818\n",
      "std    946.357     943.969    0.386\n",
      "min    -30.669     -29.719    0.000\n",
      "25%     39.518      48.611    1.000\n",
      "50%    768.657     774.261    1.000\n",
      "75%   1570.300    1576.697    1.000\n",
      "max   4381.217    4392.745    1.000\n",
      "Missing values in dataframe:\n",
      " Id               0\n",
      "Init             0\n",
      "Completion       0\n",
      "Type          1042\n",
      "Kinetic       1042\n",
      "dtype: int64\n",
      "Duplicate rows in dataframe: 0\n"
     ]
    }
   ],
   "source": [
    "explore_dataframe(events)"
   ]
  },
  {
   "cell_type": "markdown",
   "id": "d15e0a85",
   "metadata": {
    "papermill": {
     "duration": 0.012426,
     "end_time": "2023-05-17T18:33:22.833937",
     "exception": false,
     "start_time": "2023-05-17T18:33:22.821511",
     "status": "completed"
    },
    "tags": []
   },
   "source": [
    "The dataset consists of 3544 events, each characterized by five columns: \"Id\", \"Init\", \"Completion\", \"Type\", and \"Kinetic\". \"Id\" represents a unique identifier for each event. \"Init\" and \"Completion\" describe the start and end time of the event, respectively. \"Type\" and \"Kinetic\" are categorical and numerical variables, respectively, that describe the type and kinetic activity of the event.\n",
    "\n",
    "The number of non-null values for all columns is 3544, except for the \"Type\" and \"Kinetic\" columns, which have 1042 missing values. There are no duplicate rows in the dataset.\n",
    "\n",
    "The mean values for \"Init\", \"Completion\", and \"Kinetic\" are 956.30, 964.49, and 0.82, respectively. The standard deviations are 946.36, 943.97, and 0.39, respectively. The minimum and maximum values for \"Init\" are -30.67 and 4381.22, respectively, while for \"Completion\", the minimum and maximum values are -29.72 and 4392.75, respectively."
   ]
  },
  {
   "cell_type": "code",
   "execution_count": 10,
   "id": "3a581ca7",
   "metadata": {
    "execution": {
     "iopub.execute_input": "2023-05-17T18:33:22.861063Z",
     "iopub.status.busy": "2023-05-17T18:33:22.860715Z",
     "iopub.status.idle": "2023-05-17T18:33:22.908875Z",
     "shell.execute_reply": "2023-05-17T18:33:22.907874Z"
    },
    "papermill": {
     "duration": 0.064412,
     "end_time": "2023-05-17T18:33:22.911217",
     "exception": false,
     "start_time": "2023-05-17T18:33:22.846805",
     "status": "completed"
    },
    "tags": []
   },
   "outputs": [
    {
     "name": "stdout",
     "output_type": "stream",
     "text": [
      "Shape of dataframe: (4474, 7)\n"
     ]
    },
    {
     "data": {
      "text/html": [
       "<div>\n",
       "<style scoped>\n",
       "    .dataframe tbody tr th:only-of-type {\n",
       "        vertical-align: middle;\n",
       "    }\n",
       "\n",
       "    .dataframe tbody tr th {\n",
       "        vertical-align: top;\n",
       "    }\n",
       "\n",
       "    .dataframe thead th {\n",
       "        text-align: right;\n",
       "    }\n",
       "</style>\n",
       "<table border=\"1\" class=\"dataframe\">\n",
       "  <thead>\n",
       "    <tr style=\"text-align: right;\">\n",
       "      <th></th>\n",
       "      <th>Time</th>\n",
       "      <th>AccV</th>\n",
       "      <th>AccML</th>\n",
       "      <th>AccAP</th>\n",
       "      <th>StartHesitation</th>\n",
       "      <th>Turn</th>\n",
       "      <th>Walking</th>\n",
       "    </tr>\n",
       "  </thead>\n",
       "  <tbody>\n",
       "    <tr>\n",
       "      <th>0</th>\n",
       "      <td>0</td>\n",
       "      <td>-9.777</td>\n",
       "      <td>0.110</td>\n",
       "      <td>-0.537</td>\n",
       "      <td>0</td>\n",
       "      <td>0</td>\n",
       "      <td>0</td>\n",
       "    </tr>\n",
       "    <tr>\n",
       "      <th>1</th>\n",
       "      <td>1</td>\n",
       "      <td>-9.788</td>\n",
       "      <td>0.090</td>\n",
       "      <td>-0.525</td>\n",
       "      <td>0</td>\n",
       "      <td>0</td>\n",
       "      <td>0</td>\n",
       "    </tr>\n",
       "    <tr>\n",
       "      <th>2</th>\n",
       "      <td>2</td>\n",
       "      <td>-9.788</td>\n",
       "      <td>0.074</td>\n",
       "      <td>-0.544</td>\n",
       "      <td>0</td>\n",
       "      <td>0</td>\n",
       "      <td>0</td>\n",
       "    </tr>\n",
       "    <tr>\n",
       "      <th>3</th>\n",
       "      <td>3</td>\n",
       "      <td>-9.777</td>\n",
       "      <td>0.117</td>\n",
       "      <td>-0.548</td>\n",
       "      <td>0</td>\n",
       "      <td>0</td>\n",
       "      <td>0</td>\n",
       "    </tr>\n",
       "    <tr>\n",
       "      <th>4</th>\n",
       "      <td>4</td>\n",
       "      <td>-9.786</td>\n",
       "      <td>0.119</td>\n",
       "      <td>-0.537</td>\n",
       "      <td>0</td>\n",
       "      <td>0</td>\n",
       "      <td>0</td>\n",
       "    </tr>\n",
       "  </tbody>\n",
       "</table>\n",
       "</div>"
      ],
      "text/plain": [
       "   Time   AccV  AccML  AccAP  StartHesitation  Turn  Walking\n",
       "0     0 -9.777  0.110 -0.537                0     0        0\n",
       "1     1 -9.788  0.090 -0.525                0     0        0\n",
       "2     2 -9.788  0.074 -0.544                0     0        0\n",
       "3     3 -9.777  0.117 -0.548                0     0        0\n",
       "4     4 -9.786  0.119 -0.537                0     0        0"
      ]
     },
     "metadata": {},
     "output_type": "display_data"
    },
    {
     "name": "stdout",
     "output_type": "stream",
     "text": [
      "Info of dataframe:\n",
      "\n",
      "<class 'pandas.core.frame.DataFrame'>\n",
      "RangeIndex: 4474 entries, 0 to 4473\n",
      "Data columns (total 7 columns):\n",
      " #   Column           Non-Null Count  Dtype  \n",
      "---  ------           --------------  -----  \n",
      " 0   Time             4474 non-null   int64  \n",
      " 1   AccV             4474 non-null   float64\n",
      " 2   AccML            4474 non-null   float64\n",
      " 3   AccAP            4474 non-null   float64\n",
      " 4   StartHesitation  4474 non-null   int64  \n",
      " 5   Turn             4474 non-null   int64  \n",
      " 6   Walking          4474 non-null   int64  \n",
      "dtypes: float64(3), int64(4)\n",
      "memory usage: 244.8 KB\n",
      "Summary statistics of dataframe:\n",
      "           Time     AccV    AccML    AccAP  StartHesitation     Turn  Walking\n",
      "count 4474.000 4474.000 4474.000 4474.000         4474.000 4474.000 4474.000\n",
      "mean  2236.500   -9.615    0.136    1.138            0.000    0.000    0.000\n",
      "std   1291.677    1.457    1.329    1.783            0.000    0.000    0.000\n",
      "min      0.000  -20.580   -6.943  -18.379            0.000    0.000    0.000\n",
      "25%   1118.250   -9.837   -0.264   -0.491            0.000    0.000    0.000\n",
      "50%   2236.500   -9.782    0.063    0.951            0.000    0.000    0.000\n",
      "75%   3354.750   -9.068    0.641    2.337            0.000    0.000    0.000\n",
      "max   4473.000   -4.166    7.910    9.783            0.000    0.000    0.000\n",
      "Missing values in dataframe:\n",
      " Time               0\n",
      "AccV               0\n",
      "AccML              0\n",
      "AccAP              0\n",
      "StartHesitation    0\n",
      "Turn               0\n",
      "Walking            0\n",
      "dtype: int64\n",
      "Duplicate rows in dataframe: 0\n"
     ]
    }
   ],
   "source": [
    "explore_dataframe(acc)"
   ]
  },
  {
   "cell_type": "markdown",
   "id": "71e463a3",
   "metadata": {
    "papermill": {
     "duration": 0.013013,
     "end_time": "2023-05-17T18:33:22.939398",
     "exception": false,
     "start_time": "2023-05-17T18:33:22.926385",
     "status": "completed"
    },
    "tags": []
   },
   "source": [
    "\n",
    "The dataset contains 4474 rows and 7 columns: Time, AccV, AccML, AccAP, StartHesitation, Turn, and Walking.\n",
    "\n",
    "The Time column represents the timestamp of the accelerometer data. AccV, AccML, and AccAP represent the acceleration values in the vertical, medio-lateral, and antero-posterior directions, respectively. StartHesitation, Turn, and Walking are binary variables indicating whether the subject is starting to walk, turning, or already walking at a given timestamp.\n",
    "\n",
    "The summary statistics show that the mean value of vertical acceleration is -9.61 m/s², the mean value of medio-lateral acceleration is -0.14 m/s², and the mean value of antero-posterior acceleration is 1.14 m/s². There are no missing values or duplicate rows in the dataset."
   ]
  },
  {
   "cell_type": "code",
   "execution_count": 11,
   "id": "70965f3a",
   "metadata": {
    "execution": {
     "iopub.execute_input": "2023-05-17T18:33:22.967814Z",
     "iopub.status.busy": "2023-05-17T18:33:22.967454Z",
     "iopub.status.idle": "2023-05-17T18:33:23.013397Z",
     "shell.execute_reply": "2023-05-17T18:33:23.012149Z"
    },
    "papermill": {
     "duration": 0.063663,
     "end_time": "2023-05-17T18:33:23.016517",
     "exception": false,
     "start_time": "2023-05-17T18:33:22.952854",
     "status": "completed"
    },
    "tags": []
   },
   "outputs": [
    {
     "name": "stdout",
     "output_type": "stream",
     "text": [
      "Shape of dataframe: (173, 8)\n"
     ]
    },
    {
     "data": {
      "text/html": [
       "<div>\n",
       "<style scoped>\n",
       "    .dataframe tbody tr th:only-of-type {\n",
       "        vertical-align: middle;\n",
       "    }\n",
       "\n",
       "    .dataframe tbody tr th {\n",
       "        vertical-align: top;\n",
       "    }\n",
       "\n",
       "    .dataframe thead th {\n",
       "        text-align: right;\n",
       "    }\n",
       "</style>\n",
       "<table border=\"1\" class=\"dataframe\">\n",
       "  <thead>\n",
       "    <tr style=\"text-align: right;\">\n",
       "      <th></th>\n",
       "      <th>Subject</th>\n",
       "      <th>Visit</th>\n",
       "      <th>Age</th>\n",
       "      <th>Sex</th>\n",
       "      <th>YearsSinceDx</th>\n",
       "      <th>UPDRSIII_On</th>\n",
       "      <th>UPDRSIII_Off</th>\n",
       "      <th>NFOGQ</th>\n",
       "    </tr>\n",
       "  </thead>\n",
       "  <tbody>\n",
       "    <tr>\n",
       "      <th>0</th>\n",
       "      <td>00f674</td>\n",
       "      <td>2.000</td>\n",
       "      <td>63</td>\n",
       "      <td>M</td>\n",
       "      <td>27.000</td>\n",
       "      <td>43.000</td>\n",
       "      <td>49.000</td>\n",
       "      <td>24</td>\n",
       "    </tr>\n",
       "    <tr>\n",
       "      <th>1</th>\n",
       "      <td>00f674</td>\n",
       "      <td>1.000</td>\n",
       "      <td>63</td>\n",
       "      <td>M</td>\n",
       "      <td>27.000</td>\n",
       "      <td>31.000</td>\n",
       "      <td>30.000</td>\n",
       "      <td>26</td>\n",
       "    </tr>\n",
       "    <tr>\n",
       "      <th>2</th>\n",
       "      <td>02bc69</td>\n",
       "      <td>NaN</td>\n",
       "      <td>69</td>\n",
       "      <td>M</td>\n",
       "      <td>4.000</td>\n",
       "      <td>21.000</td>\n",
       "      <td>NaN</td>\n",
       "      <td>22</td>\n",
       "    </tr>\n",
       "    <tr>\n",
       "      <th>3</th>\n",
       "      <td>040587</td>\n",
       "      <td>2.000</td>\n",
       "      <td>75</td>\n",
       "      <td>M</td>\n",
       "      <td>26.000</td>\n",
       "      <td>52.000</td>\n",
       "      <td>69.000</td>\n",
       "      <td>21</td>\n",
       "    </tr>\n",
       "    <tr>\n",
       "      <th>4</th>\n",
       "      <td>040587</td>\n",
       "      <td>1.000</td>\n",
       "      <td>75</td>\n",
       "      <td>M</td>\n",
       "      <td>26.000</td>\n",
       "      <td>47.000</td>\n",
       "      <td>75.000</td>\n",
       "      <td>24</td>\n",
       "    </tr>\n",
       "  </tbody>\n",
       "</table>\n",
       "</div>"
      ],
      "text/plain": [
       "  Subject  Visit  Age Sex  YearsSinceDx  UPDRSIII_On  UPDRSIII_Off  NFOGQ\n",
       "0  00f674  2.000   63   M        27.000       43.000        49.000     24\n",
       "1  00f674  1.000   63   M        27.000       31.000        30.000     26\n",
       "2  02bc69    NaN   69   M         4.000       21.000           NaN     22\n",
       "3  040587  2.000   75   M        26.000       52.000        69.000     21\n",
       "4  040587  1.000   75   M        26.000       47.000        75.000     24"
      ]
     },
     "metadata": {},
     "output_type": "display_data"
    },
    {
     "name": "stdout",
     "output_type": "stream",
     "text": [
      "Info of dataframe:\n",
      "\n",
      "<class 'pandas.core.frame.DataFrame'>\n",
      "RangeIndex: 173 entries, 0 to 172\n",
      "Data columns (total 8 columns):\n",
      " #   Column        Non-Null Count  Dtype  \n",
      "---  ------        --------------  -----  \n",
      " 0   Subject       173 non-null    object \n",
      " 1   Visit         111 non-null    float64\n",
      " 2   Age           173 non-null    int64  \n",
      " 3   Sex           173 non-null    object \n",
      " 4   YearsSinceDx  173 non-null    float64\n",
      " 5   UPDRSIII_On   172 non-null    float64\n",
      " 6   UPDRSIII_Off  132 non-null    float64\n",
      " 7   NFOGQ         173 non-null    int64  \n",
      "dtypes: float64(4), int64(2), object(2)\n",
      "memory usage: 10.9+ KB\n",
      "Summary statistics of dataframe:\n",
      "         Visit     Age  YearsSinceDx  UPDRSIII_On  UPDRSIII_Off   NFOGQ\n",
      "count 111.000 173.000       173.000      172.000       132.000 173.000\n",
      "mean    1.369  67.763        10.384       34.273        42.879  17.121\n",
      "std     0.485   7.972         6.289       12.733        12.999   7.575\n",
      "min     1.000  28.000         0.420        5.000        15.000   0.000\n",
      "25%     1.000  62.000         6.000       25.000        33.000  15.000\n",
      "50%     1.000  68.000         9.000       35.000        43.000  19.000\n",
      "75%     2.000  73.000        15.000       42.250        49.250  22.000\n",
      "max     2.000  94.000        30.000       79.000        91.000  29.000\n",
      "Missing values in dataframe:\n",
      " Subject          0\n",
      "Visit           62\n",
      "Age              0\n",
      "Sex              0\n",
      "YearsSinceDx     0\n",
      "UPDRSIII_On      1\n",
      "UPDRSIII_Off    41\n",
      "NFOGQ            0\n",
      "dtype: int64\n",
      "Duplicate rows in dataframe: 0\n"
     ]
    }
   ],
   "source": [
    "explore_dataframe(subject)"
   ]
  },
  {
   "cell_type": "markdown",
   "id": "3f516310",
   "metadata": {
    "papermill": {
     "duration": 0.014133,
     "end_time": "2023-05-17T18:33:23.046940",
     "exception": false,
     "start_time": "2023-05-17T18:33:23.032807",
     "status": "completed"
    },
    "tags": []
   },
   "source": [
    "\n",
    "This dataset contains data on 173 patients with Parkinson's disease. It has 8 columns, including patient ID, age, gender, time since diagnosis, UPDRSIII_On and UPDRSIII_Off test results, as well as NFOGQ questionnaire results. Some patients were tested more than once, which is reflected in the Visit column.\n",
    "\n",
    "The dataset contains some missing values in the Visit, UPDRSIII_On, and UPDRSIII_Off columns, but only the Visit and UPDRSIII_Off columns have more than 20% missing values. The majority of patients are male (M), and the average age is 67.76 years. Regarding the NFOGQ column, the mean value is 17.12, and the minimum value is 0, which may indicate that some patients do not experience freezing of gait (FOG)."
   ]
  },
  {
   "cell_type": "markdown",
   "id": "3c42e67b",
   "metadata": {
    "papermill": {
     "duration": 0.014397,
     "end_time": "2023-05-17T18:33:23.076335",
     "exception": false,
     "start_time": "2023-05-17T18:33:23.061938",
     "status": "completed"
    },
    "tags": []
   },
   "source": [
    "For our task, we will need the following columns from the remaining datasets:\n",
    "\n",
    "In tdcsfog and defog: Medication - to analyze the impact of medications on disease symptoms.\n",
    "In events: Init, Completion, Type - to analyze the timing of various tasks and their types.\n",
    "In acc: AccV, AccML, AccAP - to analyze patient activity and assess their motor abilities."
   ]
  },
  {
   "cell_type": "code",
   "execution_count": 12,
   "id": "a20896fc",
   "metadata": {
    "execution": {
     "iopub.execute_input": "2023-05-17T18:33:23.109390Z",
     "iopub.status.busy": "2023-05-17T18:33:23.109029Z",
     "iopub.status.idle": "2023-05-17T18:33:23.115680Z",
     "shell.execute_reply": "2023-05-17T18:33:23.114429Z"
    },
    "papermill": {
     "duration": 0.025127,
     "end_time": "2023-05-17T18:33:23.118345",
     "exception": false,
     "start_time": "2023-05-17T18:33:23.093218",
     "status": "completed"
    },
    "tags": []
   },
   "outputs": [],
   "source": [
    "#To prepare the datasets for merging, we will first remove the column \"Kinetic\" as it is not informative for our analysis\n",
    "\n",
    "events = events.drop('Kinetic', axis=1)"
   ]
  },
  {
   "cell_type": "code",
   "execution_count": 13,
   "id": "30901d29",
   "metadata": {
    "execution": {
     "iopub.execute_input": "2023-05-17T18:33:23.150785Z",
     "iopub.status.busy": "2023-05-17T18:33:23.149379Z",
     "iopub.status.idle": "2023-05-17T18:33:23.162575Z",
     "shell.execute_reply": "2023-05-17T18:33:23.161553Z"
    },
    "papermill": {
     "duration": 0.031017,
     "end_time": "2023-05-17T18:33:23.164978",
     "exception": false,
     "start_time": "2023-05-17T18:33:23.133961",
     "status": "completed"
    },
    "tags": []
   },
   "outputs": [],
   "source": [
    "# To create three new columns, \"StartHesitation,\" \"Turn,\" and \"Walking,\" in the \"events\" dataset and assign them values from the \"Type\" column\n",
    "\n",
    "events['StartHesitation'] = events['Type'].apply(lambda x: x == 'Start hesitation')\n",
    "events['Turn'] = events['Type'].apply(lambda x: x == 'Turn')\n",
    "events['Walking'] = events['Type'].apply(lambda x: x == 'Walking')\n",
    "\n",
    "# To remove the \"Type\" column from the \"events\" dataset\n",
    "\n",
    "events = events.drop('Type', axis=1)"
   ]
  },
  {
   "cell_type": "code",
   "execution_count": 14,
   "id": "2cbf2bcf",
   "metadata": {
    "execution": {
     "iopub.execute_input": "2023-05-17T18:33:23.197041Z",
     "iopub.status.busy": "2023-05-17T18:33:23.196083Z",
     "iopub.status.idle": "2023-05-17T18:33:23.202859Z",
     "shell.execute_reply": "2023-05-17T18:33:23.201998Z"
    },
    "papermill": {
     "duration": 0.024609,
     "end_time": "2023-05-17T18:33:23.204883",
     "exception": false,
     "start_time": "2023-05-17T18:33:23.180274",
     "status": "completed"
    },
    "tags": []
   },
   "outputs": [],
   "source": [
    "# To convert the values in the \"Turn,\" \"Walking,\" and \"StartHesitation\" columns to integers\n",
    "\n",
    "events['StartHesitation'] = events['StartHesitation'].astype(int)\n",
    "events['Turn'] = events['Turn'].astype(int)\n",
    "events['Walking'] = events['Walking'].astype(int)"
   ]
  },
  {
   "cell_type": "code",
   "execution_count": 15,
   "id": "15b364e4",
   "metadata": {
    "execution": {
     "iopub.execute_input": "2023-05-17T18:33:23.235291Z",
     "iopub.status.busy": "2023-05-17T18:33:23.234314Z",
     "iopub.status.idle": "2023-05-17T18:33:26.545608Z",
     "shell.execute_reply": "2023-05-17T18:33:26.544613Z"
    },
    "papermill": {
     "duration": 3.329015,
     "end_time": "2023-05-17T18:33:26.548141",
     "exception": false,
     "start_time": "2023-05-17T18:33:23.219126",
     "status": "completed"
    },
    "tags": []
   },
   "outputs": [],
   "source": [
    "merged_df = pd.merge(tdcsfog, defog, on=['Id', 'Subject', 'Visit', 'Medication'], how='outer')\n",
    "events = events[['Id','Init','Completion','Turn', 'Walking', 'StartHesitation']]\n",
    "merged_df = pd.merge(merged_df, events, on='Id', how='outer')\n",
    "merged_df = pd.merge(merged_df, acc, on='StartHesitation', how='left')"
   ]
  },
  {
   "cell_type": "code",
   "execution_count": 16,
   "id": "1b846e7d",
   "metadata": {
    "execution": {
     "iopub.execute_input": "2023-05-17T18:33:26.579285Z",
     "iopub.status.busy": "2023-05-17T18:33:26.578935Z",
     "iopub.status.idle": "2023-05-17T18:33:26.831131Z",
     "shell.execute_reply": "2023-05-17T18:33:26.830209Z"
    },
    "papermill": {
     "duration": 0.270811,
     "end_time": "2023-05-17T18:33:26.833532",
     "exception": false,
     "start_time": "2023-05-17T18:33:26.562721",
     "status": "completed"
    },
    "tags": []
   },
   "outputs": [],
   "source": [
    "# To merge the columns \"Turn\" and \"Walking\" into a single column\n",
    "\n",
    "merged_df['Turn'] = merged_df['Turn_x'].fillna(merged_df['Turn_y'])\n",
    "merged_df['Walking'] = merged_df['Walking_x'].fillna(merged_df['Walking_y'])"
   ]
  },
  {
   "cell_type": "code",
   "execution_count": 17,
   "id": "54a6242a",
   "metadata": {
    "execution": {
     "iopub.execute_input": "2023-05-17T18:33:26.863785Z",
     "iopub.status.busy": "2023-05-17T18:33:26.862724Z",
     "iopub.status.idle": "2023-05-17T18:33:28.236265Z",
     "shell.execute_reply": "2023-05-17T18:33:28.235273Z"
    },
    "papermill": {
     "duration": 1.39146,
     "end_time": "2023-05-17T18:33:28.239026",
     "exception": false,
     "start_time": "2023-05-17T18:33:26.847566",
     "status": "completed"
    },
    "tags": []
   },
   "outputs": [],
   "source": [
    "# To remove the unwanted columns\n",
    "\n",
    "merged_df = merged_df.drop(['Turn_x', 'Turn_y', 'Walking_x', 'Walking_y'], axis=1)"
   ]
  },
  {
   "cell_type": "code",
   "execution_count": 18,
   "id": "ac80c70f",
   "metadata": {
    "execution": {
     "iopub.execute_input": "2023-05-17T18:33:28.268647Z",
     "iopub.status.busy": "2023-05-17T18:33:28.268285Z",
     "iopub.status.idle": "2023-05-17T18:33:40.673442Z",
     "shell.execute_reply": "2023-05-17T18:33:40.672124Z"
    },
    "papermill": {
     "duration": 12.422726,
     "end_time": "2023-05-17T18:33:40.675707",
     "exception": false,
     "start_time": "2023-05-17T18:33:28.252981",
     "status": "completed"
    },
    "tags": []
   },
   "outputs": [
    {
     "name": "stdout",
     "output_type": "stream",
     "text": [
      "Id                        0\n",
      "Subject                   0\n",
      "Visit                     0\n",
      "Test               10464699\n",
      "Medication                0\n",
      "Init                    435\n",
      "Completion              435\n",
      "StartHesitation         435\n",
      "Time                    435\n",
      "AccV                    435\n",
      "AccML                   435\n",
      "AccAP                   435\n",
      "Turn                    435\n",
      "Walking                 435\n",
      "dtype: int64\n"
     ]
    }
   ],
   "source": [
    "print(check_missing_values(merged_df))"
   ]
  },
  {
   "cell_type": "markdown",
   "id": "bdcc5605",
   "metadata": {
    "papermill": {
     "duration": 0.01346,
     "end_time": "2023-05-17T18:33:40.703794",
     "exception": false,
     "start_time": "2023-05-17T18:33:40.690334",
     "status": "completed"
    },
    "tags": []
   },
   "source": [
    "There are missing values, but considering that the dataset is comprehensive, they are not significant.  \n",
    "The \"Test\" column, which indicates the type of test performed, stands out. To preserve the integrity of the model's statistics, I will remove it at this stage but examine it together with the data from the \"Subject\" dataset.  \n",
    "For the missing values in the accelerometer measurements, I will replace them with the median values, which should not distort the results given the small number of missing values compared to the total number of rows."
   ]
  },
  {
   "cell_type": "code",
   "execution_count": 19,
   "id": "d752e0f3",
   "metadata": {
    "execution": {
     "iopub.execute_input": "2023-05-17T18:33:40.732170Z",
     "iopub.status.busy": "2023-05-17T18:33:40.731874Z",
     "iopub.status.idle": "2023-05-17T18:33:42.084115Z",
     "shell.execute_reply": "2023-05-17T18:33:42.083135Z"
    },
    "papermill": {
     "duration": 1.369152,
     "end_time": "2023-05-17T18:33:42.086562",
     "exception": false,
     "start_time": "2023-05-17T18:33:40.717410",
     "status": "completed"
    },
    "tags": []
   },
   "outputs": [],
   "source": [
    "# Remove the \"Test\" column\n",
    "\n",
    "merged_df = merged_df.drop('Test', axis=1)"
   ]
  },
  {
   "cell_type": "code",
   "execution_count": 20,
   "id": "e655292f",
   "metadata": {
    "execution": {
     "iopub.execute_input": "2023-05-17T18:33:42.115534Z",
     "iopub.status.busy": "2023-05-17T18:33:42.115213Z",
     "iopub.status.idle": "2023-05-17T18:33:58.934205Z",
     "shell.execute_reply": "2023-05-17T18:33:58.933309Z"
    },
    "papermill": {
     "duration": 16.835747,
     "end_time": "2023-05-17T18:33:58.936429",
     "exception": false,
     "start_time": "2023-05-17T18:33:42.100682",
     "status": "completed"
    },
    "tags": []
   },
   "outputs": [
    {
     "data": {
      "text/plain": [
       "Id                 0\n",
       "Subject            0\n",
       "Visit              0\n",
       "Medication         0\n",
       "Init               0\n",
       "Completion         0\n",
       "StartHesitation    0\n",
       "Time               0\n",
       "AccV               0\n",
       "AccML              0\n",
       "AccAP              0\n",
       "Turn               0\n",
       "Walking            0\n",
       "dtype: int64"
      ]
     },
     "execution_count": 20,
     "metadata": {},
     "output_type": "execute_result"
    }
   ],
   "source": [
    "merged_df = fill_missing_values(merged_df)\n",
    "\n",
    "# Checking the result\n",
    "\n",
    "check_missing_values(merged_df)"
   ]
  },
  {
   "cell_type": "markdown",
   "id": "f4ecd024",
   "metadata": {
    "papermill": {
     "duration": 0.013492,
     "end_time": "2023-05-17T18:33:58.964014",
     "exception": false,
     "start_time": "2023-05-17T18:33:58.950522",
     "status": "completed"
    },
    "tags": []
   },
   "source": [
    "### We have obtained a dataset based on which we will further investigate the task."
   ]
  },
  {
   "cell_type": "markdown",
   "id": "4e0714d2",
   "metadata": {
    "papermill": {
     "duration": 0.013648,
     "end_time": "2023-05-17T18:33:58.991476",
     "exception": false,
     "start_time": "2023-05-17T18:33:58.977828",
     "status": "completed"
    },
    "tags": []
   },
   "source": [
    "## Descriptive statistics and analysis of value distribution"
   ]
  },
  {
   "cell_type": "markdown",
   "id": "b677fe7b",
   "metadata": {
    "papermill": {
     "duration": 0.013498,
     "end_time": "2023-05-17T18:33:59.018679",
     "exception": false,
     "start_time": "2023-05-17T18:33:59.005181",
     "status": "completed"
    },
    "tags": []
   },
   "source": [
    "I don't remove duplicates as I believe they represent different measurements, for example, of the same patient."
   ]
  },
  {
   "cell_type": "code",
   "execution_count": 21,
   "id": "2b92e5b3",
   "metadata": {
    "execution": {
     "iopub.execute_input": "2023-05-17T18:33:59.047810Z",
     "iopub.status.busy": "2023-05-17T18:33:59.046822Z",
     "iopub.status.idle": "2023-05-17T18:34:02.366439Z",
     "shell.execute_reply": "2023-05-17T18:34:02.365468Z"
    },
    "papermill": {
     "duration": 3.336668,
     "end_time": "2023-05-17T18:34:02.368844",
     "exception": false,
     "start_time": "2023-05-17T18:33:59.032176",
     "status": "completed"
    },
    "tags": []
   },
   "outputs": [],
   "source": [
    "merged_df = merged_df.reindex(columns=['Id', 'Subject', 'Visit', 'Medication', 'Time','Init','Completion', 'AccV', 'AccML', 'AccAP', 'StartHesitation', 'Turn', 'Walking'])\n"
   ]
  },
  {
   "cell_type": "code",
   "execution_count": 22,
   "id": "9b2da380",
   "metadata": {
    "execution": {
     "iopub.execute_input": "2023-05-17T18:34:02.401175Z",
     "iopub.status.busy": "2023-05-17T18:34:02.400130Z",
     "iopub.status.idle": "2023-05-17T18:34:34.422989Z",
     "shell.execute_reply": "2023-05-17T18:34:34.421935Z"
    },
    "papermill": {
     "duration": 32.056959,
     "end_time": "2023-05-17T18:34:34.440147",
     "exception": false,
     "start_time": "2023-05-17T18:34:02.383188",
     "status": "completed"
    },
    "tags": []
   },
   "outputs": [
    {
     "name": "stdout",
     "output_type": "stream",
     "text": [
      "Shape of dataframe: (15856291, 13)\n"
     ]
    },
    {
     "data": {
      "text/html": [
       "<div>\n",
       "<style scoped>\n",
       "    .dataframe tbody tr th:only-of-type {\n",
       "        vertical-align: middle;\n",
       "    }\n",
       "\n",
       "    .dataframe tbody tr th {\n",
       "        vertical-align: top;\n",
       "    }\n",
       "\n",
       "    .dataframe thead th {\n",
       "        text-align: right;\n",
       "    }\n",
       "</style>\n",
       "<table border=\"1\" class=\"dataframe\">\n",
       "  <thead>\n",
       "    <tr style=\"text-align: right;\">\n",
       "      <th></th>\n",
       "      <th>Id</th>\n",
       "      <th>Subject</th>\n",
       "      <th>Visit</th>\n",
       "      <th>Medication</th>\n",
       "      <th>Time</th>\n",
       "      <th>Init</th>\n",
       "      <th>Completion</th>\n",
       "      <th>AccV</th>\n",
       "      <th>AccML</th>\n",
       "      <th>AccAP</th>\n",
       "      <th>StartHesitation</th>\n",
       "      <th>Turn</th>\n",
       "      <th>Walking</th>\n",
       "    </tr>\n",
       "  </thead>\n",
       "  <tbody>\n",
       "    <tr>\n",
       "      <th>0</th>\n",
       "      <td>003f117e14</td>\n",
       "      <td>4dc2f8</td>\n",
       "      <td>3</td>\n",
       "      <td>on</td>\n",
       "      <td>0.000</td>\n",
       "      <td>8.613</td>\n",
       "      <td>14.773</td>\n",
       "      <td>-9.777</td>\n",
       "      <td>0.110</td>\n",
       "      <td>-0.537</td>\n",
       "      <td>0.000</td>\n",
       "      <td>1.000</td>\n",
       "      <td>0.000</td>\n",
       "    </tr>\n",
       "    <tr>\n",
       "      <th>1</th>\n",
       "      <td>003f117e14</td>\n",
       "      <td>4dc2f8</td>\n",
       "      <td>3</td>\n",
       "      <td>on</td>\n",
       "      <td>1.000</td>\n",
       "      <td>8.613</td>\n",
       "      <td>14.773</td>\n",
       "      <td>-9.788</td>\n",
       "      <td>0.090</td>\n",
       "      <td>-0.525</td>\n",
       "      <td>0.000</td>\n",
       "      <td>1.000</td>\n",
       "      <td>0.000</td>\n",
       "    </tr>\n",
       "    <tr>\n",
       "      <th>2</th>\n",
       "      <td>003f117e14</td>\n",
       "      <td>4dc2f8</td>\n",
       "      <td>3</td>\n",
       "      <td>on</td>\n",
       "      <td>2.000</td>\n",
       "      <td>8.613</td>\n",
       "      <td>14.773</td>\n",
       "      <td>-9.788</td>\n",
       "      <td>0.074</td>\n",
       "      <td>-0.544</td>\n",
       "      <td>0.000</td>\n",
       "      <td>1.000</td>\n",
       "      <td>0.000</td>\n",
       "    </tr>\n",
       "    <tr>\n",
       "      <th>3</th>\n",
       "      <td>003f117e14</td>\n",
       "      <td>4dc2f8</td>\n",
       "      <td>3</td>\n",
       "      <td>on</td>\n",
       "      <td>3.000</td>\n",
       "      <td>8.613</td>\n",
       "      <td>14.773</td>\n",
       "      <td>-9.777</td>\n",
       "      <td>0.117</td>\n",
       "      <td>-0.548</td>\n",
       "      <td>0.000</td>\n",
       "      <td>1.000</td>\n",
       "      <td>0.000</td>\n",
       "    </tr>\n",
       "    <tr>\n",
       "      <th>4</th>\n",
       "      <td>003f117e14</td>\n",
       "      <td>4dc2f8</td>\n",
       "      <td>3</td>\n",
       "      <td>on</td>\n",
       "      <td>4.000</td>\n",
       "      <td>8.613</td>\n",
       "      <td>14.773</td>\n",
       "      <td>-9.786</td>\n",
       "      <td>0.119</td>\n",
       "      <td>-0.537</td>\n",
       "      <td>0.000</td>\n",
       "      <td>1.000</td>\n",
       "      <td>0.000</td>\n",
       "    </tr>\n",
       "  </tbody>\n",
       "</table>\n",
       "</div>"
      ],
      "text/plain": [
       "           Id Subject  Visit Medication  Time  Init  Completion   AccV  AccML  \\\n",
       "0  003f117e14  4dc2f8      3         on 0.000 8.613      14.773 -9.777  0.110   \n",
       "1  003f117e14  4dc2f8      3         on 1.000 8.613      14.773 -9.788  0.090   \n",
       "2  003f117e14  4dc2f8      3         on 2.000 8.613      14.773 -9.788  0.074   \n",
       "3  003f117e14  4dc2f8      3         on 3.000 8.613      14.773 -9.777  0.117   \n",
       "4  003f117e14  4dc2f8      3         on 4.000 8.613      14.773 -9.786  0.119   \n",
       "\n",
       "   AccAP  StartHesitation  Turn  Walking  \n",
       "0 -0.537            0.000 1.000    0.000  \n",
       "1 -0.525            0.000 1.000    0.000  \n",
       "2 -0.544            0.000 1.000    0.000  \n",
       "3 -0.548            0.000 1.000    0.000  \n",
       "4 -0.537            0.000 1.000    0.000  "
      ]
     },
     "metadata": {},
     "output_type": "display_data"
    },
    {
     "name": "stdout",
     "output_type": "stream",
     "text": [
      "Info of dataframe:\n",
      "\n",
      "<class 'pandas.core.frame.DataFrame'>\n",
      "Int64Index: 15856291 entries, 0 to 15856290\n",
      "Data columns (total 13 columns):\n",
      " #   Column           Dtype  \n",
      "---  ------           -----  \n",
      " 0   Id               object \n",
      " 1   Subject          object \n",
      " 2   Visit            int64  \n",
      " 3   Medication       object \n",
      " 4   Time             float64\n",
      " 5   Init             float64\n",
      " 6   Completion       float64\n",
      " 7   AccV             float64\n",
      " 8   AccML            float64\n",
      " 9   AccAP            float64\n",
      " 10  StartHesitation  float64\n",
      " 11  Turn             float64\n",
      " 12  Walking          float64\n",
      "dtypes: float64(9), int64(1), object(3)\n",
      "memory usage: 1.7+ GB\n",
      "Summary statistics of dataframe:\n",
      "              Visit         Time         Init   Completion         AccV  \\\n",
      "count 15856291.000 15856291.000 15856291.000 15856291.000 15856291.000   \n",
      "mean         2.823     2236.500      956.293      964.484       -9.615   \n",
      "std          3.484     1291.515      946.211      943.823        1.457   \n",
      "min          1.000        0.000      -30.669      -29.719      -20.580   \n",
      "25%          2.000     1118.000       39.531       48.627       -9.837   \n",
      "50%          2.000     2236.500      768.657      774.261       -9.782   \n",
      "75%          2.000     3355.000     1570.033     1576.553       -9.067   \n",
      "max         20.000     4473.000     4381.217     4392.745       -4.166   \n",
      "\n",
      "             AccML        AccAP  StartHesitation         Turn      Walking  \n",
      "count 15856291.000 15856291.000     15856291.000 15856291.000 15856291.000  \n",
      "mean         0.136        1.138            0.000        0.563        0.112  \n",
      "std          1.329        1.783            0.000        0.496        0.316  \n",
      "min         -6.943      -18.379            0.000        0.000        0.000  \n",
      "25%         -0.265       -0.491            0.000        0.000        0.000  \n",
      "50%          0.063        0.951            0.000        1.000        0.000  \n",
      "75%          0.641        2.337            0.000        1.000        0.000  \n",
      "max          7.910        9.783            0.000        1.000        1.000  \n",
      "Missing values in dataframe:\n",
      " Id                 0\n",
      "Subject            0\n",
      "Visit              0\n",
      "Medication         0\n",
      "Time               0\n",
      "Init               0\n",
      "Completion         0\n",
      "AccV               0\n",
      "AccML              0\n",
      "AccAP              0\n",
      "StartHesitation    0\n",
      "Turn               0\n",
      "Walking            0\n",
      "dtype: int64\n",
      "Duplicate rows in dataframe: 0\n"
     ]
    }
   ],
   "source": [
    "explore_dataframe(merged_df)"
   ]
  },
  {
   "cell_type": "code",
   "execution_count": 23,
   "id": "32dbbd3f",
   "metadata": {
    "execution": {
     "iopub.execute_input": "2023-05-17T18:34:34.471005Z",
     "iopub.status.busy": "2023-05-17T18:34:34.470213Z",
     "iopub.status.idle": "2023-05-17T18:34:38.833335Z",
     "shell.execute_reply": "2023-05-17T18:34:38.832342Z"
    },
    "papermill": {
     "duration": 4.381004,
     "end_time": "2023-05-17T18:34:38.835944",
     "exception": false,
     "start_time": "2023-05-17T18:34:34.454940",
     "status": "completed"
    },
    "tags": []
   },
   "outputs": [
    {
     "data": {
      "image/png": "[encoded data removed]",
      "text/plain": [
       "<Figure size 1500x800 with 10 Axes>"
      ]
     },
     "metadata": {},
     "output_type": "display_data"
    }
   ],
   "source": [
    "fig, axs = plt.subplots(5, 2, figsize=(15, 8))\n",
    "axs = axs.flatten()\n",
    "\n",
    "for i, col in enumerate(['Visit', 'Time','Init','Completion','AccV', 'AccML', 'AccAP', 'StartHesitation', 'Turn', 'Walking']):\n",
    "    axs[i].hist(merged_df[col], bins=20)\n",
    "    axs[i].set_title(col)\n",
    "plt.tight_layout()\n",
    "plt.show()"
   ]
  },
  {
   "cell_type": "code",
   "execution_count": 24,
   "id": "9fead762",
   "metadata": {
    "execution": {
     "iopub.execute_input": "2023-05-17T18:34:38.867732Z",
     "iopub.status.busy": "2023-05-17T18:34:38.867440Z",
     "iopub.status.idle": "2023-05-17T18:35:01.585332Z",
     "shell.execute_reply": "2023-05-17T18:35:01.584445Z"
    },
    "papermill": {
     "duration": 22.736072,
     "end_time": "2023-05-17T18:35:01.587515",
     "exception": false,
     "start_time": "2023-05-17T18:34:38.851443",
     "status": "completed"
    },
    "tags": []
   },
   "outputs": [
    {
     "data": {
      "image/png": "[encoded data removed]",
      "text/plain": [
       "<Figure size 1500x1000 with 10 Axes>"
      ]
     },
     "metadata": {},
     "output_type": "display_data"
    }
   ],
   "source": [
    "fig, axs = plt.subplots(5,2, figsize=(15, 10))\n",
    "axs = axs.flatten()\n",
    "\n",
    "for i, col in enumerate(['Visit', 'Time','Init','Completion','AccV', 'AccML', 'AccAP', 'StartHesitation', 'Turn', 'Walking']):\n",
    "    axs[i].boxplot(merged_df[col])\n",
    "    axs[i].set_title(col)\n",
    "plt.tight_layout()\n",
    "plt.show()"
   ]
  },
  {
   "cell_type": "markdown",
   "id": "6dc2efc9",
   "metadata": {
    "papermill": {
     "duration": 0.01586,
     "end_time": "2023-05-17T18:35:01.619434",
     "exception": false,
     "start_time": "2023-05-17T18:35:01.603574",
     "status": "completed"
    },
    "tags": []
   },
   "source": [
    "## Accelerometer Time Series Analysis for Fade Detection\n"
   ]
  },
  {
   "cell_type": "markdown",
   "id": "e267e8ff",
   "metadata": {
    "papermill": {
     "duration": 0.01586,
     "end_time": "2023-05-17T18:35:01.651188",
     "exception": false,
     "start_time": "2023-05-17T18:35:01.635328",
     "status": "completed"
    },
    "tags": []
   },
   "source": [
    "Accelerometers in modern devices are used to measure acceleration and change in speed. In the context of this task, accelerations in the x, y, and z directions can provide some information about human behavior, including the presence of episodes of freezing, hesitation in turning or moving, delays in movement, etc.\n",
    "\n",
    "The direction of acceleration along the x-axis (AccML) can reflect a change in the direction of movement of a person in the ground plane (for example, when turning), the direction of acceleration along the y-axis (AccAP) can reflect vertical movement (for example, going up or down stairs), and the direction of acceleration along z-axis (AccV) can reflect a change in forward or reverse speed.\n",
    "\n",
    "In scoring validation, scoring values ​​can help identify episodes of stalling and hesitation in turning or scoring, for example, by analyzing the length of low score periods (or observed scoring variation) and scoring them against the overall length of the test run. Also, measurement values ​​can help determine the change in motion, for example, by measuring the mean or standard deviation of measurements along each of the axes.\n",
    "\n",
    "The obtained features were used to build a model that can classify different motion episodes with high probability."
   ]
  },
  {
   "cell_type": "code",
   "execution_count": 25,
   "id": "6816d260",
   "metadata": {
    "execution": {
     "iopub.execute_input": "2023-05-17T18:35:01.684284Z",
     "iopub.status.busy": "2023-05-17T18:35:01.683639Z",
     "iopub.status.idle": "2023-05-17T18:35:07.516918Z",
     "shell.execute_reply": "2023-05-17T18:35:07.515864Z"
    },
    "papermill": {
     "duration": 5.852732,
     "end_time": "2023-05-17T18:35:07.519488",
     "exception": false,
     "start_time": "2023-05-17T18:35:01.666756",
     "status": "completed"
    },
    "tags": []
   },
   "outputs": [
    {
     "data": {
      "text/plain": [
       "<AxesSubplot: >"
      ]
     },
     "execution_count": 25,
     "metadata": {},
     "output_type": "execute_result"
    },
    {
     "data": {
      "image/png": "[encoded data removed]",
      "text/plain": [
       "<Figure size 1000x1000 with 2 Axes>"
      ]
     },
     "metadata": {},
     "output_type": "display_data"
    }
   ],
   "source": [
    "# Select the desired columns\n",
    "\n",
    "columns = ['Visit','Time','Init','Completion','AccV', 'AccML', 'AccAP','StartHesitation','Turn', 'Walking']\n",
    "\n",
    "# Create a new DataFrame containing only the selected columns\n",
    "\n",
    "df_selected = merged_df[columns]\n",
    "\n",
    "# Calculate the correlation matrix\n",
    "\n",
    "corr_matrix = df_selected.corr()\n",
    "\n",
    "# Visualize the correlation matrix with heatmap\n",
    "\n",
    "fig, ax = plt.subplots(figsize=(10, 10), dpi=100)\n",
    "sns.heatmap(corr_matrix, annot=True, cmap='Blues', fmt='.2f')"
   ]
  },
  {
   "cell_type": "markdown",
   "id": "51014d42",
   "metadata": {
    "papermill": {
     "duration": 0.018124,
     "end_time": "2023-05-17T18:35:07.555511",
     "exception": false,
     "start_time": "2023-05-17T18:35:07.537387",
     "status": "completed"
    },
    "tags": []
   },
   "source": [
    "For plotting time series graphs of AccV, AccML and AccAP accelerometer values, I used the Time column because it is a time scale containing information about the time for which the measurements were taken.\n",
    "\n",
    "The Init and Completion columns indicate the start and end of a fade (FOG) episode, respectively. If we use these columns to plot the time series, then we will only see the time intervals when the fading episodes occurred, not the full time series.\n",
    "\n",
    "Therefore, to plot time series graphs based on accelerometer values ​​AccV, AccML and AccAP, it was logical to use the Time column, since it contains information about the time interval in which the accelerometer measurements were taken."
   ]
  },
  {
   "cell_type": "code",
   "execution_count": 26,
   "id": "685ca1c1",
   "metadata": {
    "execution": {
     "iopub.execute_input": "2023-05-17T18:35:07.592562Z",
     "iopub.status.busy": "2023-05-17T18:35:07.591545Z",
     "iopub.status.idle": "2023-05-17T18:35:51.152272Z",
     "shell.execute_reply": "2023-05-17T18:35:51.151361Z"
    },
    "papermill": {
     "duration": 43.596461,
     "end_time": "2023-05-17T18:35:51.169457",
     "exception": false,
     "start_time": "2023-05-17T18:35:07.572996",
     "status": "completed"
    },
    "tags": []
   },
   "outputs": [
    {
     "data": {
      "image/png": "[encoded data removed]",
      "text/plain": [
       "<Figure size 1500x500 with 3 Axes>"
      ]
     },
     "metadata": {},
     "output_type": "display_data"
    }
   ],
   "source": [
    "plt.rcParams['agg.path.chunksize'] = 200\n",
    "\n",
    "plt.figure(figsize=(15, 5))\n",
    "plt.subplot(131)\n",
    "plt.plot(df_selected['Time'], df_selected['AccV'], color='lightblue')\n",
    "plt.xlabel('Time')\n",
    "plt.ylabel('AccV')\n",
    "\n",
    "plt.subplot(132)\n",
    "plt.plot(df_selected['Time'], df_selected['AccML'],color='pink')\n",
    "plt.xlabel('Time')\n",
    "plt.ylabel('AccML')\n",
    "\n",
    "plt.subplot(133)\n",
    "plt.plot(df_selected['Time'], df_selected['AccAP'],color='lightgreen')\n",
    "plt.xlabel('Time')\n",
    "plt.ylabel('AccAP')\n",
    "\n",
    "plt.show()"
   ]
  },
  {
   "cell_type": "markdown",
   "id": "cc921015",
   "metadata": {
    "papermill": {
     "duration": 0.016947,
     "end_time": "2023-05-17T18:35:51.203337",
     "exception": false,
     "start_time": "2023-05-17T18:35:51.186390",
     "status": "completed"
    },
    "tags": []
   },
   "source": [
    "* Sudden up or down jerks may indicate sudden changes in acceleration in the direction corresponding to the corresponding accelerometer column (eg AccV, AccML, AccAP). For example, a sharp drop down in the AccV chart could mean a sharp slowdown in the vertical direction.\n",
    "\n",
    "* Sharp horizontal tapers can indicate the start or end of fade episodes or other motion uncertainty events such as starting uncertainty or movement delays. For example, a sharp branch in the AccV graph may indicate the onset of an episode of starting uncertainty when the person is unable to start walking.\n",
    "\n",
    "\n",
    "* Other factors may also affect the shape and values ​​of the accelerometer time series, such as vibration, noise, and measurement errors. Therefore, before interpreting the graphs, it is necessary to make sure that the measurements are correct and accurate, and also take into account the context and features of a particular data set."
   ]
  },
  {
   "cell_type": "markdown",
   "id": "0bdd786d",
   "metadata": {
    "papermill": {
     "duration": 0.016853,
     "end_time": "2023-05-17T18:35:51.237115",
     "exception": false,
     "start_time": "2023-05-17T18:35:51.220262",
     "status": "completed"
    },
    "tags": []
   },
   "source": [
    "## Parse duration of FOG event types"
   ]
  },
  {
   "cell_type": "code",
   "execution_count": 27,
   "id": "7aa9f80c",
   "metadata": {
    "execution": {
     "iopub.execute_input": "2023-05-17T18:35:51.273050Z",
     "iopub.status.busy": "2023-05-17T18:35:51.272470Z",
     "iopub.status.idle": "2023-05-17T18:35:52.552287Z",
     "shell.execute_reply": "2023-05-17T18:35:52.551407Z"
    },
    "papermill": {
     "duration": 1.300077,
     "end_time": "2023-05-17T18:35:52.554519",
     "exception": false,
     "start_time": "2023-05-17T18:35:51.254442",
     "status": "completed"
    },
    "tags": []
   },
   "outputs": [
    {
     "data": {
      "image/png": "[encoded data removed]",
      "text/plain": [
       "<Figure size 1500x500 with 3 Axes>"
      ]
     },
     "metadata": {},
     "output_type": "display_data"
    }
   ],
   "source": [
    "fig, ax = plt.subplots(1, 3, figsize=(15, 5))\n",
    "\n",
    "ax[0].hist(df_selected['StartHesitation'], color='lightblue')\n",
    "ax[0].set_title('StartHesitation')\n",
    "\n",
    "ax[1].hist(df_selected['Turn'], color='pink')\n",
    "ax[1].set_title('Turn')\n",
    "\n",
    "ax[2].hist(df_selected['Walking'], color='lightgreen')\n",
    "ax[2].set_title('Walking')\n",
    "\n",
    "plt.show()"
   ]
  },
  {
   "cell_type": "code",
   "execution_count": 28,
   "id": "db374272",
   "metadata": {
    "execution": {
     "iopub.execute_input": "2023-05-17T18:35:52.591594Z",
     "iopub.status.busy": "2023-05-17T18:35:52.591293Z",
     "iopub.status.idle": "2023-05-17T18:35:52.944261Z",
     "shell.execute_reply": "2023-05-17T18:35:52.943229Z"
    },
    "papermill": {
     "duration": 0.37414,
     "end_time": "2023-05-17T18:35:52.946849",
     "exception": false,
     "start_time": "2023-05-17T18:35:52.572709",
     "status": "completed"
    },
    "tags": []
   },
   "outputs": [],
   "source": [
    "# Select only the Init and Completion columns for each type of event\n",
    "\n",
    "start_hesitation_df = merged_df[['Init', 'Completion', 'StartHesitation']]\n",
    "turn_df = merged_df[['Init', 'Completion', 'Turn']]\n",
    "walking_df = merged_df[['Init', 'Completion', 'Walking']]"
   ]
  },
  {
   "cell_type": "code",
   "execution_count": 29,
   "id": "141bfe8f",
   "metadata": {
    "execution": {
     "iopub.execute_input": "2023-05-17T18:35:52.985281Z",
     "iopub.status.busy": "2023-05-17T18:35:52.984968Z",
     "iopub.status.idle": "2023-05-17T18:35:53.659526Z",
     "shell.execute_reply": "2023-05-17T18:35:53.658576Z"
    },
    "papermill": {
     "duration": 0.696142,
     "end_time": "2023-05-17T18:35:53.661921",
     "exception": false,
     "start_time": "2023-05-17T18:35:52.965779",
     "status": "completed"
    },
    "tags": []
   },
   "outputs": [],
   "source": [
    "# Calculate the duration of each event\n",
    "\n",
    "start_hesitation_df = start_hesitation_df.assign(Duration=start_hesitation_df['Completion'] - start_hesitation_df['Init'])\n",
    "turn_df = turn_df.assign(Duration=turn_df['Completion'] - turn_df['Init'])\n",
    "walking_df = walking_df.assign(Duration=walking_df['Completion'] - walking_df['Init'])"
   ]
  },
  {
   "cell_type": "code",
   "execution_count": 30,
   "id": "221ddc5a",
   "metadata": {
    "execution": {
     "iopub.execute_input": "2023-05-17T18:35:53.699370Z",
     "iopub.status.busy": "2023-05-17T18:35:53.699080Z",
     "iopub.status.idle": "2023-05-17T18:35:55.275774Z",
     "shell.execute_reply": "2023-05-17T18:35:55.274610Z"
    },
    "papermill": {
     "duration": 1.597992,
     "end_time": "2023-05-17T18:35:55.278196",
     "exception": false,
     "start_time": "2023-05-17T18:35:53.680204",
     "status": "completed"
    },
    "tags": []
   },
   "outputs": [
    {
     "name": "stdout",
     "output_type": "stream",
     "text": [
      "Start Hesitation Event Duration:\n",
      "count   15856291.000\n",
      "mean           8.191\n",
      "std           24.203\n",
      "min            0.119\n",
      "25%            1.210\n",
      "50%            2.680\n",
      "75%            6.920\n",
      "max          581.980\n",
      "Name: Duration, dtype: float64\n",
      "\n",
      "Turn Event Duration:\n",
      "count   15856291.000\n",
      "mean           8.191\n",
      "std           24.203\n",
      "min            0.119\n",
      "25%            1.210\n",
      "50%            2.680\n",
      "75%            6.920\n",
      "max          581.980\n",
      "Name: Duration, dtype: float64\n",
      "\n",
      "Walking Event Duration:\n",
      "count   15856291.000\n",
      "mean           8.191\n",
      "std           24.203\n",
      "min            0.119\n",
      "25%            1.210\n",
      "50%            2.680\n",
      "75%            6.920\n",
      "max          581.980\n",
      "Name: Duration, dtype: float64\n"
     ]
    }
   ],
   "source": [
    "print(\"Start Hesitation Event Duration:\")\n",
    "print(start_hesitation_df['Duration'].describe())\n",
    "\n",
    "print(\"\\nTurn Event Duration:\")\n",
    "print(turn_df['Duration'].describe())\n",
    "\n",
    "print(\"\\nWalking Event Duration:\")\n",
    "print(walking_df['Duration'].describe())"
   ]
  },
  {
   "cell_type": "code",
   "execution_count": 31,
   "id": "2703ff9b",
   "metadata": {
    "execution": {
     "iopub.execute_input": "2023-05-17T18:35:55.336307Z",
     "iopub.status.busy": "2023-05-17T18:35:55.335931Z",
     "iopub.status.idle": "2023-05-17T18:35:58.551348Z",
     "shell.execute_reply": "2023-05-17T18:35:58.550455Z"
    },
    "papermill": {
     "duration": 3.248735,
     "end_time": "2023-05-17T18:35:58.553430",
     "exception": false,
     "start_time": "2023-05-17T18:35:55.304695",
     "status": "completed"
    },
    "tags": []
   },
   "outputs": [
    {
     "data": {
      "image/png": "[encoded data removed]",
      "text/plain": [
       "<Figure size 1200x500 with 3 Axes>"
      ]
     },
     "metadata": {},
     "output_type": "display_data"
    }
   ],
   "source": [
    "# Build duration histograms for each type of event\n",
    "\n",
    "fig, axes = plt.subplots(nrows=1, ncols=3, figsize=(12,5))\n",
    "start_hesitation_df.hist(column='Duration', ax=axes[0], color='lightblue')\n",
    "turn_df.hist(column='Duration', ax=axes[1], color='pink')\n",
    "walking_df.hist(column='Duration', ax=axes[2], color='lightgreen')\n",
    "\n",
    "# Add titles and axis labels for each histogram\n",
    "\n",
    "axes[0].set_title('Start Hesitation Event Duration')\n",
    "axes[0].set_xlabel('Duration (seconds)')\n",
    "axes[0].set_ylabel('Frequency')\n",
    "axes[1].set_title('Turn Event Duration')\n",
    "axes[1].set_xlabel('Duration (seconds)')\n",
    "axes[1].set_ylabel('Frequency')\n",
    "axes[2].set_title('Walking Event Duration')\n",
    "axes[2].set_xlabel('Duration (seconds)')\n",
    "axes[2].set_ylabel('Frequency')\n",
    "\n",
    "plt.show()"
   ]
  },
  {
   "cell_type": "markdown",
   "id": "5d4a326c",
   "metadata": {
    "papermill": {
     "duration": 0.018442,
     "end_time": "2023-05-17T18:35:58.590481",
     "exception": false,
     "start_time": "2023-05-17T18:35:58.572039",
     "status": "completed"
    },
    "tags": []
   },
   "source": [
    "Based on the descriptive statistics provided, it can be concluded that the average duration and standard deviation for each type of event (Start Hesitation, Turn, Walking) are the same. In addition, the minimum and maximum values ​​are also the same for all three types of events.\n",
    "\n",
    "From these statistics, no conclusion can be drawn about the differences in duration between types of events. Perhaps the problem is in the distribution of the data itself or in the method of sampling."
   ]
  },
  {
   "cell_type": "code",
   "execution_count": 32,
   "id": "771e1d47",
   "metadata": {
    "_kg_hide-input": true,
    "execution": {
     "iopub.execute_input": "2023-05-17T18:35:58.627773Z",
     "iopub.status.busy": "2023-05-17T18:35:58.627488Z",
     "iopub.status.idle": "2023-05-17T18:39:13.641808Z",
     "shell.execute_reply": "2023-05-17T18:39:13.640711Z"
    },
    "papermill": {
     "duration": 195.036096,
     "end_time": "2023-05-17T18:39:13.644548",
     "exception": false,
     "start_time": "2023-05-17T18:35:58.608452",
     "status": "completed"
    },
    "tags": []
   },
   "outputs": [],
   "source": [
    "merged_df.to_csv('EDA_Parkinson.csv', index=False)"
   ]
  }
 ],
 "metadata": {
  "kernelspec": {
   "display_name": "Python 3",
   "language": "python",
   "name": "python3"
  },
  "language_info": {
   "codemirror_mode": {
    "name": "ipython",
    "version": 3
   },
   "file_extension": ".py",
   "mimetype": "text/x-python",
   "name": "python",
   "nbconvert_exporter": "python",
   "pygments_lexer": "ipython3",
   "version": "3.10.10"
  },
  "papermill": {
   "default_parameters": {},
   "duration": 364.787311,
   "end_time": "2023-05-17T18:39:14.888121",
   "environment_variables": {},
   "exception": null,
   "input_path": "__notebook__.ipynb",
   "output_path": "__notebook__.ipynb",
   "parameters": {},
   "start_time": "2023-05-17T18:33:10.100810",
   "version": "2.4.0"
  }
 },
 "nbformat": 4,
 "nbformat_minor": 5
}
